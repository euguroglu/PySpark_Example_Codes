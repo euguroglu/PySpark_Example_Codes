{
 "cells": [
  {
   "cell_type": "code",
   "execution_count": 1,
   "metadata": {},
   "outputs": [],
   "source": [
    "from pyspark.sql import SparkSession"
   ]
  },
  {
   "cell_type": "code",
   "execution_count": 2,
   "metadata": {},
   "outputs": [
    {
     "data": {
      "text/html": [
       "\n",
       "            <div>\n",
       "                <p><b>SparkSession - in-memory</b></p>\n",
       "                \n",
       "        <div>\n",
       "            <p><b>SparkContext</b></p>\n",
       "\n",
       "            <p><a href=\"http://ENES.mshome.net:4042\">Spark UI</a></p>\n",
       "\n",
       "            <dl>\n",
       "              <dt>Version</dt>\n",
       "                <dd><code>v3.0.1</code></dd>\n",
       "              <dt>Master</dt>\n",
       "                <dd><code>local[*]</code></dd>\n",
       "              <dt>AppName</dt>\n",
       "                <dd><code>SparkSQL_HW_1</code></dd>\n",
       "            </dl>\n",
       "        </div>\n",
       "        \n",
       "            </div>\n",
       "        "
      ],
      "text/plain": [
       "<pyspark.sql.session.SparkSession at 0x1ef02f5a700>"
      ]
     },
     "execution_count": 2,
     "metadata": {},
     "output_type": "execute_result"
    }
   ],
   "source": [
    "spark = SparkSession.builder.appName(\"SparkSQL_HW_1\").getOrCreate()\n",
    "spark"
   ]
  },
  {
   "cell_type": "code",
   "execution_count": 3,
   "metadata": {},
   "outputs": [],
   "source": [
    "df = spark.read.csv(\"fakefriends-header.csv\",header=True,inferSchema=True)"
   ]
  },
  {
   "cell_type": "code",
   "execution_count": 5,
   "metadata": {},
   "outputs": [
    {
     "name": "stdout",
     "output_type": "stream",
     "text": [
      "root\n",
      " |-- userID: integer (nullable = true)\n",
      " |-- name: string (nullable = true)\n",
      " |-- age: integer (nullable = true)\n",
      " |-- friends: integer (nullable = true)\n",
      "\n"
     ]
    }
   ],
   "source": [
    "df.printSchema()"
   ]
  },
  {
   "cell_type": "code",
   "execution_count": 21,
   "metadata": {},
   "outputs": [],
   "source": [
    "number = df.select(\"age\").groupBy(\"age\").count().collect()"
   ]
  },
  {
   "cell_type": "code",
   "execution_count": 26,
   "metadata": {},
   "outputs": [],
   "source": [
    "age_count = []\n",
    "for i in range(len(number)):\n",
    "    age_count.append(number[i][1])"
   ]
  },
  {
   "cell_type": "code",
   "execution_count": 27,
   "metadata": {},
   "outputs": [],
   "source": [
    "total = df.select(\"age\",\"friends\").groupBy(\"age\").sum(\"friends\").collect()"
   ]
  },
  {
   "cell_type": "code",
   "execution_count": 28,
   "metadata": {},
   "outputs": [],
   "source": [
    "summary = []\n",
    "for i in range(len(total)):\n",
    "    summary.append(total[i][1])"
   ]
  },
  {
   "cell_type": "code",
   "execution_count": 31,
   "metadata": {},
   "outputs": [],
   "source": [
    "result = []\n",
    "for i in range(len(summary)):\n",
    "   result.append(summary[i]/age_count[i]) "
   ]
  },
  {
   "cell_type": "code",
   "execution_count": 32,
   "metadata": {},
   "outputs": [
    {
     "data": {
      "text/plain": [
       "[267.25,\n",
       " 298.2,\n",
       " 222.85714285714286,\n",
       " 245.5,\n",
       " 209.1,\n",
       " 242.05882352941177,\n",
       " 228.125,\n",
       " 282.1666666666667,\n",
       " 206.42857142857142,\n",
       " 233.22222222222223,\n",
       " 340.6363636363636,\n",
       " 250.8235294117647,\n",
       " 165.0,\n",
       " 258.8333333333333,\n",
       " 278.0769230769231,\n",
       " 281.4,\n",
       " 213.27272727272728,\n",
       " 281.3333333333333,\n",
       " 268.55555555555554,\n",
       " 230.57142857142858,\n",
       " 249.33333333333334,\n",
       " 256.22222222222223,\n",
       " 211.625,\n",
       " 295.53846153846155,\n",
       " 220.0,\n",
       " 169.28571428571428,\n",
       " 246.3,\n",
       " 184.66666666666666,\n",
       " 302.14285714285717,\n",
       " 235.2,\n",
       " 384.0,\n",
       " 254.6,\n",
       " 309.53846153846155,\n",
       " 193.53333333333333,\n",
       " 197.45454545454547,\n",
       " 233.8,\n",
       " 220.76923076923077,\n",
       " 215.91666666666666,\n",
       " 350.875,\n",
       " 202.71428571428572,\n",
       " 207.9090909090909,\n",
       " 306.6666666666667,\n",
       " 116.54545454545455,\n",
       " 325.3333333333333,\n",
       " 269.6,\n",
       " 303.5,\n",
       " 235.8181818181818,\n",
       " 276.44444444444446,\n",
       " 214.625,\n",
       " 223.69230769230768,\n",
       " 343.375,\n",
       " 246.6]"
      ]
     },
     "execution_count": 32,
     "metadata": {},
     "output_type": "execute_result"
    }
   ],
   "source": [
    "result"
   ]
  }
 ],
 "metadata": {
  "kernelspec": {
   "display_name": "Python 3",
   "language": "python",
   "name": "python3"
  },
  "language_info": {
   "codemirror_mode": {
    "name": "ipython",
    "version": 3
   },
   "file_extension": ".py",
   "mimetype": "text/x-python",
   "name": "python",
   "nbconvert_exporter": "python",
   "pygments_lexer": "ipython3",
   "version": "3.8.5"
  }
 },
 "nbformat": 4,
 "nbformat_minor": 4
}
