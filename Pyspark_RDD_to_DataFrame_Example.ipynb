{
 "cells": [
  {
   "cell_type": "code",
   "execution_count": 1,
   "metadata": {},
   "outputs": [],
   "source": [
    "from pyspark.sql import SparkSession\n",
    "from pyspark.sql import Row\n",
    "spark = SparkSession.builder.appName(\"SparkSQL\").getOrCreate()"
   ]
  },
  {
   "cell_type": "code",
   "execution_count": 2,
   "metadata": {},
   "outputs": [],
   "source": [
    "def mapper(line):\n",
    "    fields = line.split(',')\n",
    "    return Row(ID=int(fields[0]), name=str(fields[1].encode(\"utf-8\")), \\\n",
    "               age=int(fields[2]), numFriends=int(fields[3]))"
   ]
  },
  {
   "cell_type": "code",
   "execution_count": 3,
   "metadata": {},
   "outputs": [],
   "source": [
    "lines = spark.sparkContext.textFile(\"fakefriends.csv\")\n",
    "people = lines.map(mapper)"
   ]
  },
  {
   "cell_type": "code",
   "execution_count": 4,
   "metadata": {},
   "outputs": [],
   "source": [
    "schemaPeople = spark.createDataFrame(people).cache()\n",
    "schemaPeople.createOrReplaceTempView(\"people\")"
   ]
  },
  {
   "cell_type": "code",
   "execution_count": 5,
   "metadata": {},
   "outputs": [],
   "source": [
    "teenagers = spark.sql(\"SELECT * FROM people WHERE age >= 13 AND age <= 19\")"
   ]
  },
  {
   "cell_type": "code",
   "execution_count": 7,
   "metadata": {},
   "outputs": [
    {
     "data": {
      "text/html": [
       "<div>\n",
       "<style scoped>\n",
       "    .dataframe tbody tr th:only-of-type {\n",
       "        vertical-align: middle;\n",
       "    }\n",
       "\n",
       "    .dataframe tbody tr th {\n",
       "        vertical-align: top;\n",
       "    }\n",
       "\n",
       "    .dataframe thead th {\n",
       "        text-align: right;\n",
       "    }\n",
       "</style>\n",
       "<table border=\"1\" class=\"dataframe\">\n",
       "  <thead>\n",
       "    <tr style=\"text-align: right;\">\n",
       "      <th></th>\n",
       "      <th>ID</th>\n",
       "      <th>name</th>\n",
       "      <th>age</th>\n",
       "      <th>numFriends</th>\n",
       "    </tr>\n",
       "  </thead>\n",
       "  <tbody>\n",
       "    <tr>\n",
       "      <th>0</th>\n",
       "      <td>21</td>\n",
       "      <td>b'Miles'</td>\n",
       "      <td>19</td>\n",
       "      <td>268</td>\n",
       "    </tr>\n",
       "    <tr>\n",
       "      <th>1</th>\n",
       "      <td>52</td>\n",
       "      <td>b'Beverly'</td>\n",
       "      <td>19</td>\n",
       "      <td>269</td>\n",
       "    </tr>\n",
       "    <tr>\n",
       "      <th>2</th>\n",
       "      <td>54</td>\n",
       "      <td>b'Brunt'</td>\n",
       "      <td>19</td>\n",
       "      <td>5</td>\n",
       "    </tr>\n",
       "    <tr>\n",
       "      <th>3</th>\n",
       "      <td>106</td>\n",
       "      <td>b'Beverly'</td>\n",
       "      <td>18</td>\n",
       "      <td>499</td>\n",
       "    </tr>\n",
       "    <tr>\n",
       "      <th>4</th>\n",
       "      <td>115</td>\n",
       "      <td>b'Dukat'</td>\n",
       "      <td>18</td>\n",
       "      <td>397</td>\n",
       "    </tr>\n",
       "    <tr>\n",
       "      <th>5</th>\n",
       "      <td>133</td>\n",
       "      <td>b'Quark'</td>\n",
       "      <td>19</td>\n",
       "      <td>265</td>\n",
       "    </tr>\n",
       "    <tr>\n",
       "      <th>6</th>\n",
       "      <td>136</td>\n",
       "      <td>b'Will'</td>\n",
       "      <td>19</td>\n",
       "      <td>335</td>\n",
       "    </tr>\n",
       "    <tr>\n",
       "      <th>7</th>\n",
       "      <td>225</td>\n",
       "      <td>b'Elim'</td>\n",
       "      <td>19</td>\n",
       "      <td>106</td>\n",
       "    </tr>\n",
       "    <tr>\n",
       "      <th>8</th>\n",
       "      <td>304</td>\n",
       "      <td>b'Will'</td>\n",
       "      <td>19</td>\n",
       "      <td>404</td>\n",
       "    </tr>\n",
       "    <tr>\n",
       "      <th>9</th>\n",
       "      <td>341</td>\n",
       "      <td>b'Data'</td>\n",
       "      <td>18</td>\n",
       "      <td>326</td>\n",
       "    </tr>\n",
       "    <tr>\n",
       "      <th>10</th>\n",
       "      <td>366</td>\n",
       "      <td>b'Keiko'</td>\n",
       "      <td>19</td>\n",
       "      <td>119</td>\n",
       "    </tr>\n",
       "    <tr>\n",
       "      <th>11</th>\n",
       "      <td>373</td>\n",
       "      <td>b'Quark'</td>\n",
       "      <td>19</td>\n",
       "      <td>272</td>\n",
       "    </tr>\n",
       "    <tr>\n",
       "      <th>12</th>\n",
       "      <td>377</td>\n",
       "      <td>b'Beverly'</td>\n",
       "      <td>18</td>\n",
       "      <td>418</td>\n",
       "    </tr>\n",
       "    <tr>\n",
       "      <th>13</th>\n",
       "      <td>404</td>\n",
       "      <td>b'Kasidy'</td>\n",
       "      <td>18</td>\n",
       "      <td>24</td>\n",
       "    </tr>\n",
       "    <tr>\n",
       "      <th>14</th>\n",
       "      <td>409</td>\n",
       "      <td>b'Nog'</td>\n",
       "      <td>19</td>\n",
       "      <td>267</td>\n",
       "    </tr>\n",
       "    <tr>\n",
       "      <th>15</th>\n",
       "      <td>439</td>\n",
       "      <td>b'Data'</td>\n",
       "      <td>18</td>\n",
       "      <td>417</td>\n",
       "    </tr>\n",
       "    <tr>\n",
       "      <th>16</th>\n",
       "      <td>444</td>\n",
       "      <td>b'Keiko'</td>\n",
       "      <td>18</td>\n",
       "      <td>472</td>\n",
       "    </tr>\n",
       "    <tr>\n",
       "      <th>17</th>\n",
       "      <td>492</td>\n",
       "      <td>b'Dukat'</td>\n",
       "      <td>19</td>\n",
       "      <td>36</td>\n",
       "    </tr>\n",
       "    <tr>\n",
       "      <th>18</th>\n",
       "      <td>494</td>\n",
       "      <td>b'Kasidy'</td>\n",
       "      <td>18</td>\n",
       "      <td>194</td>\n",
       "    </tr>\n",
       "  </tbody>\n",
       "</table>\n",
       "</div>"
      ],
      "text/plain": [
       "     ID        name  age  numFriends\n",
       "0    21    b'Miles'   19         268\n",
       "1    52  b'Beverly'   19         269\n",
       "2    54    b'Brunt'   19           5\n",
       "3   106  b'Beverly'   18         499\n",
       "4   115    b'Dukat'   18         397\n",
       "5   133    b'Quark'   19         265\n",
       "6   136     b'Will'   19         335\n",
       "7   225     b'Elim'   19         106\n",
       "8   304     b'Will'   19         404\n",
       "9   341     b'Data'   18         326\n",
       "10  366    b'Keiko'   19         119\n",
       "11  373    b'Quark'   19         272\n",
       "12  377  b'Beverly'   18         418\n",
       "13  404   b'Kasidy'   18          24\n",
       "14  409      b'Nog'   19         267\n",
       "15  439     b'Data'   18         417\n",
       "16  444    b'Keiko'   18         472\n",
       "17  492    b'Dukat'   19          36\n",
       "18  494   b'Kasidy'   18         194"
      ]
     },
     "execution_count": 7,
     "metadata": {},
     "output_type": "execute_result"
    }
   ],
   "source": [
    "teenagers.toPandas()"
   ]
  },
  {
   "cell_type": "code",
   "execution_count": 8,
   "metadata": {},
   "outputs": [
    {
     "data": {
      "text/plain": [
       "[Row(ID=21, name=\"b'Miles'\", age=19, numFriends=268),\n",
       " Row(ID=52, name=\"b'Beverly'\", age=19, numFriends=269),\n",
       " Row(ID=54, name=\"b'Brunt'\", age=19, numFriends=5),\n",
       " Row(ID=106, name=\"b'Beverly'\", age=18, numFriends=499),\n",
       " Row(ID=115, name=\"b'Dukat'\", age=18, numFriends=397),\n",
       " Row(ID=133, name=\"b'Quark'\", age=19, numFriends=265),\n",
       " Row(ID=136, name=\"b'Will'\", age=19, numFriends=335),\n",
       " Row(ID=225, name=\"b'Elim'\", age=19, numFriends=106),\n",
       " Row(ID=304, name=\"b'Will'\", age=19, numFriends=404),\n",
       " Row(ID=341, name=\"b'Data'\", age=18, numFriends=326),\n",
       " Row(ID=366, name=\"b'Keiko'\", age=19, numFriends=119),\n",
       " Row(ID=373, name=\"b'Quark'\", age=19, numFriends=272),\n",
       " Row(ID=377, name=\"b'Beverly'\", age=18, numFriends=418),\n",
       " Row(ID=404, name=\"b'Kasidy'\", age=18, numFriends=24),\n",
       " Row(ID=409, name=\"b'Nog'\", age=19, numFriends=267),\n",
       " Row(ID=439, name=\"b'Data'\", age=18, numFriends=417),\n",
       " Row(ID=444, name=\"b'Keiko'\", age=18, numFriends=472),\n",
       " Row(ID=492, name=\"b'Dukat'\", age=19, numFriends=36),\n",
       " Row(ID=494, name=\"b'Kasidy'\", age=18, numFriends=194)]"
      ]
     },
     "execution_count": 8,
     "metadata": {},
     "output_type": "execute_result"
    }
   ],
   "source": [
    "teenagers.collect()"
   ]
  },
  {
   "cell_type": "code",
   "execution_count": 9,
   "metadata": {},
   "outputs": [
    {
     "name": "stdout",
     "output_type": "stream",
     "text": [
      "Row(ID=21, name=\"b'Miles'\", age=19, numFriends=268)\n",
      "Row(ID=52, name=\"b'Beverly'\", age=19, numFriends=269)\n",
      "Row(ID=54, name=\"b'Brunt'\", age=19, numFriends=5)\n",
      "Row(ID=106, name=\"b'Beverly'\", age=18, numFriends=499)\n",
      "Row(ID=115, name=\"b'Dukat'\", age=18, numFriends=397)\n",
      "Row(ID=133, name=\"b'Quark'\", age=19, numFriends=265)\n",
      "Row(ID=136, name=\"b'Will'\", age=19, numFriends=335)\n",
      "Row(ID=225, name=\"b'Elim'\", age=19, numFriends=106)\n",
      "Row(ID=304, name=\"b'Will'\", age=19, numFriends=404)\n",
      "Row(ID=341, name=\"b'Data'\", age=18, numFriends=326)\n",
      "Row(ID=366, name=\"b'Keiko'\", age=19, numFriends=119)\n",
      "Row(ID=373, name=\"b'Quark'\", age=19, numFriends=272)\n",
      "Row(ID=377, name=\"b'Beverly'\", age=18, numFriends=418)\n",
      "Row(ID=404, name=\"b'Kasidy'\", age=18, numFriends=24)\n",
      "Row(ID=409, name=\"b'Nog'\", age=19, numFriends=267)\n",
      "Row(ID=439, name=\"b'Data'\", age=18, numFriends=417)\n",
      "Row(ID=444, name=\"b'Keiko'\", age=18, numFriends=472)\n",
      "Row(ID=492, name=\"b'Dukat'\", age=19, numFriends=36)\n",
      "Row(ID=494, name=\"b'Kasidy'\", age=18, numFriends=194)\n"
     ]
    }
   ],
   "source": [
    "for teen in teenagers.collect():\n",
    "  print(teen)"
   ]
  },
  {
   "cell_type": "code",
   "execution_count": 10,
   "metadata": {},
   "outputs": [
    {
     "name": "stdout",
     "output_type": "stream",
     "text": [
      "+---+-----+\n",
      "|age|count|\n",
      "+---+-----+\n",
      "| 18|    8|\n",
      "| 19|   11|\n",
      "| 20|    5|\n",
      "| 21|    8|\n",
      "| 22|    7|\n",
      "| 23|   10|\n",
      "| 24|    5|\n",
      "| 25|   11|\n",
      "| 26|   17|\n",
      "| 27|    8|\n",
      "| 28|   10|\n",
      "| 29|   12|\n",
      "| 30|   11|\n",
      "| 31|    8|\n",
      "| 32|   11|\n",
      "| 33|   12|\n",
      "| 34|    6|\n",
      "| 35|    8|\n",
      "| 36|   10|\n",
      "| 37|    9|\n",
      "+---+-----+\n",
      "only showing top 20 rows\n",
      "\n"
     ]
    }
   ],
   "source": [
    "schemaPeople.groupBy(\"age\").count().orderBy(\"age\").show()"
   ]
  },
  {
   "cell_type": "code",
   "execution_count": null,
   "metadata": {},
   "outputs": [],
   "source": []
  }
 ],
 "metadata": {
  "kernelspec": {
   "display_name": "Python 3",
   "language": "python",
   "name": "python3"
  },
  "language_info": {
   "codemirror_mode": {
    "name": "ipython",
    "version": 3
   },
   "file_extension": ".py",
   "mimetype": "text/x-python",
   "name": "python",
   "nbconvert_exporter": "python",
   "pygments_lexer": "ipython3",
   "version": "3.8.5"
  }
 },
 "nbformat": 4,
 "nbformat_minor": 4
}
