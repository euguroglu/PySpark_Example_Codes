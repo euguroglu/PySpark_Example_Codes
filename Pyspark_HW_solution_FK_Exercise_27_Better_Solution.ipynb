{
 "cells": [
  {
   "cell_type": "code",
   "execution_count": 10,
   "metadata": {},
   "outputs": [],
   "source": [
    "from pyspark.sql import SparkSession\n",
    "from pyspark.sql import functions as func"
   ]
  },
  {
   "cell_type": "code",
   "execution_count": 2,
   "metadata": {},
   "outputs": [
    {
     "data": {
      "text/html": [
       "\n",
       "            <div>\n",
       "                <p><b>SparkSession - in-memory</b></p>\n",
       "                \n",
       "        <div>\n",
       "            <p><b>SparkContext</b></p>\n",
       "\n",
       "            <p><a href=\"http://ENES.mshome.net:4043\">Spark UI</a></p>\n",
       "\n",
       "            <dl>\n",
       "              <dt>Version</dt>\n",
       "                <dd><code>v3.0.1</code></dd>\n",
       "              <dt>Master</dt>\n",
       "                <dd><code>local[*]</code></dd>\n",
       "              <dt>AppName</dt>\n",
       "                <dd><code>SparkSQL_HW_1</code></dd>\n",
       "            </dl>\n",
       "        </div>\n",
       "        \n",
       "            </div>\n",
       "        "
      ],
      "text/plain": [
       "<pyspark.sql.session.SparkSession at 0x1e5af34a700>"
      ]
     },
     "execution_count": 2,
     "metadata": {},
     "output_type": "execute_result"
    }
   ],
   "source": [
    "spark = SparkSession.builder.appName(\"SparkSQL_HW_1\").getOrCreate()\n",
    "spark"
   ]
  },
  {
   "cell_type": "code",
   "execution_count": 3,
   "metadata": {},
   "outputs": [],
   "source": [
    "df = spark.read.csv(\"fakefriends-header.csv\",header=True,inferSchema=True)"
   ]
  },
  {
   "cell_type": "code",
   "execution_count": 4,
   "metadata": {},
   "outputs": [],
   "source": [
    "friendsByAge = df.select(\"age\",\"friends\")"
   ]
  },
  {
   "cell_type": "code",
   "execution_count": 6,
   "metadata": {},
   "outputs": [
    {
     "name": "stdout",
     "output_type": "stream",
     "text": [
      "+---+-------+\n",
      "|age|friends|\n",
      "+---+-------+\n",
      "| 33|    385|\n",
      "| 26|      2|\n",
      "| 55|    221|\n",
      "+---+-------+\n",
      "only showing top 3 rows\n",
      "\n"
     ]
    }
   ],
   "source": [
    "friendsByAge.show(3)"
   ]
  },
  {
   "cell_type": "code",
   "execution_count": 7,
   "metadata": {},
   "outputs": [
    {
     "name": "stdout",
     "output_type": "stream",
     "text": [
      "+---+------------------+\n",
      "|age|      avg(friends)|\n",
      "+---+------------------+\n",
      "| 31|            267.25|\n",
      "| 65|             298.2|\n",
      "| 53|222.85714285714286|\n",
      "| 34|             245.5|\n",
      "| 28|             209.1|\n",
      "| 26|242.05882352941177|\n",
      "| 27|           228.125|\n",
      "| 44| 282.1666666666667|\n",
      "| 22|206.42857142857142|\n",
      "| 47|233.22222222222223|\n",
      "| 52| 340.6363636363636|\n",
      "| 40| 250.8235294117647|\n",
      "| 20|             165.0|\n",
      "| 57| 258.8333333333333|\n",
      "| 54| 278.0769230769231|\n",
      "| 48|             281.4|\n",
      "| 19|213.27272727272728|\n",
      "| 64| 281.3333333333333|\n",
      "| 41|268.55555555555554|\n",
      "| 43|230.57142857142858|\n",
      "+---+------------------+\n",
      "only showing top 20 rows\n",
      "\n"
     ]
    }
   ],
   "source": [
    "friendsByAge.groupBy(\"age\").avg(\"friends\").show()"
   ]
  },
  {
   "cell_type": "code",
   "execution_count": 8,
   "metadata": {},
   "outputs": [
    {
     "name": "stdout",
     "output_type": "stream",
     "text": [
      "+---+------------------+\n",
      "|age|      avg(friends)|\n",
      "+---+------------------+\n",
      "| 18|           343.375|\n",
      "| 19|213.27272727272728|\n",
      "| 20|             165.0|\n",
      "| 21|           350.875|\n",
      "+---+------------------+\n",
      "only showing top 4 rows\n",
      "\n"
     ]
    }
   ],
   "source": [
    "friendsByAge.groupBy(\"age\").avg(\"friends\").sort(\"age\").show(4)"
   ]
  },
  {
   "cell_type": "code",
   "execution_count": 11,
   "metadata": {},
   "outputs": [
    {
     "name": "stdout",
     "output_type": "stream",
     "text": [
      "+---+----------------------+\n",
      "|age|round(avg(friends), 2)|\n",
      "+---+----------------------+\n",
      "| 18|                343.38|\n",
      "| 19|                213.27|\n",
      "| 20|                 165.0|\n",
      "| 21|                350.88|\n",
      "| 22|                206.43|\n",
      "| 23|                 246.3|\n",
      "| 24|                 233.8|\n",
      "| 25|                197.45|\n",
      "| 26|                242.06|\n",
      "| 27|                228.13|\n",
      "| 28|                 209.1|\n",
      "| 29|                215.92|\n",
      "| 30|                235.82|\n",
      "| 31|                267.25|\n",
      "| 32|                207.91|\n",
      "| 33|                325.33|\n",
      "| 34|                 245.5|\n",
      "| 35|                211.63|\n",
      "| 36|                 246.6|\n",
      "| 37|                249.33|\n",
      "+---+----------------------+\n",
      "only showing top 20 rows\n",
      "\n"
     ]
    }
   ],
   "source": [
    "friendsByAge.groupBy(\"age\").agg(func.round(func.avg(\"friends\"),2)).sort(\"age\").show()"
   ]
  },
  {
   "cell_type": "code",
   "execution_count": 17,
   "metadata": {},
   "outputs": [
    {
     "name": "stdout",
     "output_type": "stream",
     "text": [
      "+---+-----------+\n",
      "|age|friends.avg|\n",
      "+---+-----------+\n",
      "| 18|     343.38|\n",
      "| 19|     213.27|\n",
      "| 20|      165.0|\n",
      "| 21|     350.88|\n",
      "| 22|     206.43|\n",
      "| 23|      246.3|\n",
      "| 24|      233.8|\n",
      "| 25|     197.45|\n",
      "| 26|     242.06|\n",
      "| 27|     228.13|\n",
      "| 28|      209.1|\n",
      "| 29|     215.92|\n",
      "| 30|     235.82|\n",
      "| 31|     267.25|\n",
      "| 32|     207.91|\n",
      "| 33|     325.33|\n",
      "| 34|      245.5|\n",
      "| 35|     211.63|\n",
      "| 36|      246.6|\n",
      "| 37|     249.33|\n",
      "+---+-----------+\n",
      "only showing top 20 rows\n",
      "\n"
     ]
    }
   ],
   "source": [
    "friendsByAge.groupBy(\"age\").agg(func.round(func.avg(\"friends\"),2).alias(\"friends.avg\")).sort(\"age\").show()"
   ]
  },
  {
   "cell_type": "code",
   "execution_count": null,
   "metadata": {},
   "outputs": [],
   "source": []
  }
 ],
 "metadata": {
  "kernelspec": {
   "display_name": "Python 3",
   "language": "python",
   "name": "python3"
  },
  "language_info": {
   "codemirror_mode": {
    "name": "ipython",
    "version": 3
   },
   "file_extension": ".py",
   "mimetype": "text/x-python",
   "name": "python",
   "nbconvert_exporter": "python",
   "pygments_lexer": "ipython3",
   "version": "3.8.5"
  }
 },
 "nbformat": 4,
 "nbformat_minor": 4
}
